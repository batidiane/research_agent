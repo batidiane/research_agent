{
 "cells": [
  {
   "cell_type": "code",
   "execution_count": 3,
   "metadata": {},
   "outputs": [],
   "source": [
    "from langchain.schema.document import Document\n",
    "scratchpad = {\n",
    "    'original_question': \"Why was Arjun not present in the battle when Abhimanyu was slain?\",\n",
    "    'unanswered_questions': {},\n",
    "    'answerpad': [],\n",
    "    'notes': [],\n",
    "    'current_documents': [],\n",
    "}\n",
    "\n",
    "scratchpad = {\n",
    "    'original_question': 'Why did Kunti abandoned her first born??',\n",
    "    'unanswered_questions': {'1': 'Why did Kunti use the mantra to summon Surya, the sun-god?',\n",
    "                             '3': \"Why did Gandhari become angered when she heard about Kunti's child?\",\n",
    "                             '4': 'What was the significance of Gandhari giving birth to a piece of flesh and Vyasadeva appearing?',\n",
    "                             '5': \"How did Kunti's relatives react when they found out about her first-born son?\",\n",
    "                             '6': 'What was the reaction of Adhiratha and Radha when they found the child in the basket?',},\n",
    "    'answerpad': ['Kunti abandoned her first-born child because she had summoned the sun-god, Surya, using a mantra given to her by the rishi Durvasa. When Surya appeared and Kunti realized that she was going to have a child, she became fearful and regretful. However, Surya informed her that the mantra could not be undone, and she had to bear the consequences of her actions. Therefore, when the baby was born, Kunti put him in a basket and set him adrift in a river. The exact reason for her decision to abandon the child is not explicitly mentioned in the given context, but it can be inferred that Kunti did so out of fear, regret, and possibly a sense of responsibility towards her other sons and her position as a queen.'],\n",
    "    'notes': [{\n",
    "        'question': ' What was the reason behind Kunti putting her first-born son in a basket and setting him adrift in a river?', \n",
    "        'answer': \"The reason behind Kunti putting her first-born son in a basket and setting him adrift in a river was due to fear of her relatives. As stated in the context, Kunti had conceived a child by the sun god Surya before her marriage to Pandu. However, she was ashamed of begetting a son while still unmarried, so she decided to hide the child. Kunti placed the baby in a basket and set it afloat on the river Ganges to ensure that her secret would not be discovered by her family. She wept bitterly and was afflicted with grief, but she had to let go of her son to protect herself and her reputation. The child, named Karna, was eventually found and raised by a carpenter and his wife. Kunti's decision to put her first-born son in a basket and set him adrift in the river was driven by her fear of the consequences and shame that would come from her relatives discovering her secret.\"\n",
    "        }],\n",
    "    'current_question': 'Why did Kunti use the mantra to summon Surya, the sun-god?',\n",
    "    'current_answer': \"Based on the given context, it is not explicitly mentioned why Arjuna was absent during the battle when Abhimanyu was slain. The context only provides information about Arjuna's grief and anger upon learning about his son's death. Arjuna expresses his disappointment and blames his allies, the Panchalas, for not protecting Abhimanyu. He questions their manliness and prowess, suggesting that they failed to fulfill their promise of protecting his son.\\n\\nArjuna's absence during the battle could be due to various reasons, but without further information, it is difficult to determine the exact reason.\",\n",
    "    'current_documents': [\n",
    "        Document(page_content='\"O king, having thus bewailed long and piteously, Pritha laid the basket\\non the waters of the river Aswa. And the lotus-eyed damsel, afflicted\\nwith grief on account of her son and weeping bitterly, with her nurse\\ncast the basket at dead of night, and though desirous of beholding her\\nson often and again, returned, O monarch, to the palate, fearing lest her\\nfather should come to know of what had happened. Meanwhile, the basket\\nfloated from the river Aswa to the river Charmanwati, and from the\\nCharmanwati it passed to the Yamuna, and so on to the Ganga. And carried\\nby the waves of the Ganga, the child contained in the basket came to the\\ncity of Champa ruled by a person of the Suta tribe. Indeed, the excellent\\ncoat of mail and those ear-rings made of Amrita that were born with his\\nbody, as also the ordinance of Destiny, kept the child alive.\"\\n\\n\\n\\n', metadata={'book_number': 3.0, 'section': 'SECTION CCCVI', 'section_name': '', 'para_number': 3.0, 'book_name': 'Vana Parva', 'num_tokens': 217, 'chunk_id': 'cid_cccbb3515ee54ba7bc81dacbca2603c5', 'chapter_name': '', 'title': '', 'commentary': '', 'section_number': '', 'source': '', 'chapter_number': ''}),\n",
    "        Document(page_content='As stated in chapter six of the Adi Parva, Kunti, before her marriage to Pandu, had conceived a child by the Surya, the sun god. Due to fear of her relatives, she placed the child in a basket and set it afloat on the river Ganges. The child was picked up by Adhiratha, a well known carpenter and chariot driver, and his wife Radha. They were attracted by the beautiful features of the child, especially his kavacha [natural golden armor] and kundala [golden earrings]. He was given the name Karna. They raised the child very carefully for sixteen years.\\n', metadata={'book_number': 1.0, 'section': '', 'section_name': '', 'para_number': '', 'book_name': 'Adi Parva', 'num_tokens': 135, 'chunk_id': 'cid_6ec02a6f6f464a1c992219e59df7435c', 'chapter_name': 'Chapter Nine', 'title': 'The Curse of Parashurama', 'commentary': False, 'section_number': 201.0, 'source': 'https://www.kaggle.com/datasets/tilakd/mahabharata', 'chapter_number': ''}),\n",
    "        Document(page_content='I am Kunti, the mother of the Pandavas.  Kunti replied. You are my first born son before my marriage to Pandu. Because of the shame of begetting a son while still not married, I had set you afloat on the waters of the Ganges. Your brothers are the Pandavas. It is time to take your place next to your brothers, and conquering the Kurus, enthrone yourself as King. To, you can embrace your younger brother Arjuna and become the best of friends. If you two are united, there is nothing in this world that you will not accomplish.\\n', metadata={'book_number': 5.0, 'section': '', 'section_name': '', 'para_number': '', 'book_name': 'Udyoga Parva', 'num_tokens': 131, 'chunk_id': 'cid_02dccbcf48ad479bbcb886058be52410', 'chapter_name': 'Chapter Four', 'title': 'Karna is Offered Kingship of the World', 'commentary': False, 'section_number': 99.0, 'source': 'https://www.kaggle.com/datasets/tilakd/mahabharata', 'chapter_number': ''}),\n",
    "    ]\n",
    "}"
   ]
  },
  {
   "cell_type": "code",
   "execution_count": 4,
   "metadata": {},
   "outputs": [
    {
     "name": "stdout",
     "output_type": "stream",
     "text": [
      "Your task is to answer the users question Question: Why did Kunti abandoned her first born?? \n",
      " You can use previously found incomplete answers (only if needed) Previous Answer: ['Kunti abandoned her first-born child because she had summoned the sun-god, Surya, using a mantra given to her by the rishi Durvasa. When Surya appeared and Kunti realized that she was going to have a child, she became fearful and regretful. However, Surya informed her that the mantra could not be undone, and she had to bear the consequences of her actions. Therefore, when the baby was born, Kunti put him in a basket and set him adrift in a river. The exact reason for her decision to abandon the child is not explicitly mentioned in the given context, but it can be inferred that Kunti did so out of fear, regret, and possibly a sense of responsibility towards her other sons and her position as a queen.'] \n",
      " Use the following context to create a complete and elaborate answer. Context: [{'question': ' What was the reason behind Kunti putting her first-born son in a basket and setting him adrift in a river?', 'answer': \"The reason behind Kunti putting her first-born son in a basket and setting him adrift in a river was due to fear of her relatives. As stated in the context, Kunti had conceived a child by the sun god Surya before her marriage to Pandu. However, she was ashamed of begetting a son while still unmarried, so she decided to hide the child. Kunti placed the baby in a basket and set it afloat on the river Ganges to ensure that her secret would not be discovered by her family. She wept bitterly and was afflicted with grief, but she had to let go of her son to protect herself and her reputation. The child, named Karna, was eventually found and raised by a carpenter and his wife. Kunti's decision to put her first-born son in a basket and set him adrift in the river was driven by her fear of the consequences and shame that would come from her relatives discovering her secret.\"}] \n",
      " The context includes answers to several similar questions Give an elaborate answer. don't try to make up an answer. If you don't know the answer, just say that you don't know, Answer only based on the given information, and no other prior knowledge. Answer :\n"
     ]
    }
   ],
   "source": [
    "from langchain.prompts import PromptTemplate\n",
    "\n",
    "prompt_template = (\n",
    "\"Your task is to answer the users question\"\n",
    "\" Question: {question} \\n\"\n",
    "\" You can use previously found incomplete answers (only if needed)\"\n",
    "\" Previous Answer: {prev_answer} \\n\"\n",
    "\" Use the following context to create a complete and elaborate answer.\" \n",
    "\" Context: {context} \\n\"\n",
    "\" The context includes answers to several similar questions\"\n",
    "\" Give an elaborate answer. don't try to make up an answer.\"\n",
    "\" If you don't know the answer, just say that you don't know,\"\n",
    "\" Answer only based on the given information, and no other prior knowledge.\"\n",
    "\" Answer :\")\n",
    "\n",
    "PROMPT = PromptTemplate(\n",
    "    template=prompt_template, input_variables=[\"context\", \"question\", \"prev_answer\"]\n",
    ")\n",
    "\n",
    "prompt = PROMPT.format(\n",
    "    question= scratchpad['original_question'], \n",
    "    context= scratchpad['notes'], \n",
    "    prev_answer= scratchpad['answerpad']\n",
    ")\n",
    "\n",
    "print(prompt)"
   ]
  },
  {
   "cell_type": "code",
   "execution_count": null,
   "metadata": {},
   "outputs": [],
   "source": []
  }
 ],
 "metadata": {
  "kernelspec": {
   "display_name": "OpenAI@3111",
   "language": "python",
   "name": "python3"
  },
  "language_info": {
   "codemirror_mode": {
    "name": "ipython",
    "version": 3
   },
   "file_extension": ".py",
   "mimetype": "text/x-python",
   "name": "python",
   "nbconvert_exporter": "python",
   "pygments_lexer": "ipython3",
   "version": "3.11.1"
  },
  "orig_nbformat": 4
 },
 "nbformat": 4,
 "nbformat_minor": 2
}
